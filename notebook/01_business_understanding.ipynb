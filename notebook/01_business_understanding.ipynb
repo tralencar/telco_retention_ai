{
 "cells": [
  {
   "cell_type": "markdown",
   "metadata": {},
   "source": [
    "# 1) Business Understanding\n",
    "\n",
    "- **Goal:** Predict which customers of a telecommunications company are likely to churn (`Churn = Yes`) based on demographic, service subscription, and billing data.\n",
    "- **Expected Impact:** Reduce churn through more targeted retention strategies.\n",
    "\n",
    "## 1.1. Business Context\n",
    "Customer retention is a top priority for telecommunications companies due to the high cost of acquiring new customers and the intense market competition. **Churn** (customer attrition) directly impacts recurring revenue and the long-term health of the business.\n",
    "\n",
    "This project focuses on a fictional telecom company operating in California, providing home phone and internet services. The strategic goal of the organization is to develop **targeted customer retention programs** by leveraging predictive analytics based on historical customer behavior data.\n",
    "\n",
    "## 1.2. Project Objective\n",
    "Build a predictive model capable of identifying **customers with a high likelihood of churn**, allowing the marketing and customer relationship teams to proactively design **personalized retention strategies**.\n",
    "\n",
    "The main data science goals are to:\n",
    "\n",
    "- Detect key drivers of churn;\n",
    "- Estimate individual churn probabilities (scoring);\n",
    "- Prioritize retention actions based on churn risk and **Customer Lifetime Value (CLTV)**.\n",
    "\n",
    "## 1.3. Business Problem\n",
    "**How can the company anticipate customer churn using demographic profiles, subscribed services, and billing data in order to optimize retention strategies and reduce quarterly churn?**\n",
    "\n",
    "## 1.4. Project Goals\n",
    "- **Primary Goal**: Develop a binary classification model to predict whether a customer will cancel their service in the next billing cycle.\n",
    "- **Secondary Goal**: Generate business insights through descriptive and inferential analytics, including dashboards that highlight:\n",
    "  - Impact of features such as contract type, tech support, billing profile, etc.;\n",
    "  - Demographic and geographic patterns among high-churn customers;\n",
    "  - Actionable recommendations for targeted customer segments.\n",
    "\n",
    "## 1.5. Stakeholders\n",
    "- **Retention and marketing executives** (campaign strategy)\n",
    "- **BI team** (dashboard monitoring and KPI tracking)\n",
    "- **Data scientists** (model development and maintenance)\n",
    "- **CRM team** (automation of personalized offers and actions)"
   ]
  }
 ],
 "metadata": {
  "language_info": {
   "name": "python"
  }
 },
 "nbformat": 4,
 "nbformat_minor": 2
}
